{
 "cells": [
  {
   "cell_type": "markdown",
   "metadata": {},
   "source": [
    "# Cracking the Lottery Conspiracy\n",
    "---\n",
    "\n",
    "Like any person who's poor enough to celebrate pay days, I want to win the lottery. The unfortunate reality is I will not win. Although I know it is not the case, I like to imagine that there is some grand lottery scheme: maybe they sell more winning scratch-offs in one location than the next. But let's pretend for a moment there is a lottery conspriacy and we need to track it down. To explicitly state what we am looking for, we are trying to see if there is any "
   ]
  },
  {
   "cell_type": "markdown",
   "metadata": {},
   "source": [
    "## Getting the Data\n",
    "\n",
    "First thing we need to is actually go to the lottery page. I'm not too interested in the actual games themselves, but the winners. I want to be one of them. So I went to taht page and downloaded it. This is what it looks like.\n",
    "\n",
    "// insert picture here.\n",
    "\n",
    "Looking at this page 3 potential sources of informatin stick out: the game, the winning amount, and the winning location.\n",
    "\n",
    "And I want this information and this information exists on a webpage. We'll need to scrape it and to do that we need to know the structure.\n"
   ]
  },
  {
   "cell_type": "markdown",
   "metadata": {},
   "source": [
    "\\"
   ]
  },
  {
   "cell_type": "code",
   "execution_count": 1,
   "metadata": {
    "collapsed": true
   },
   "outputs": [],
   "source": [
    "#Need to scrape data\n",
    "from lxml import html\n",
    "from urllib.request import urlopen\n",
    "\n",
    "file_url = 'file:///Users/pilot/Documents/Winners.htm'\n",
    "data_source = urlopen(file_url).read() # demonstrating a clear lack of understanding\n",
    "htmlelem = html.document_fromstring(data_source)\n",
    "\n",
    "## test out to see if selecting correct elements\n",
    "lot_wins = htmlelem.cssselect('[class=wn-location]')\n",
    "#print(lot_wins)\n",
    "with open('winner_locations.csv', 'w') as wf:\n",
    "    for elem in lot_wins:\n",
    "        text = elem.text_content().split('\\n')[0]\n",
    "        if text[-4:] == ', GA':\n",
    "            wf.write(text + '\\n')"
   ]
  },
  {
   "cell_type": "code",
   "execution_count": null,
   "metadata": {
    "collapsed": true
   },
   "outputs": [],
   "source": []
  }
 ],
 "metadata": {
  "kernelspec": {
   "display_name": "Python 3",
   "language": "python",
   "name": "python3"
  },
  "language_info": {
   "codemirror_mode": {
    "name": "ipython",
    "version": 3
   },
   "file_extension": ".py",
   "mimetype": "text/x-python",
   "name": "python",
   "nbconvert_exporter": "python",
   "pygments_lexer": "ipython3",
   "version": "3.6.0"
  }
 },
 "nbformat": 4,
 "nbformat_minor": 2
}
